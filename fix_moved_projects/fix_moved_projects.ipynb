{
 "cells": [
  {
   "cell_type": "code",
   "id": "3257605b-2f2d-4152-b9d0-75278a2133d0",
   "metadata": {
    "pycharm": {
     "name": "#%%\n"
    },
    "ExecuteTime": {
     "end_time": "2024-10-04T06:15:53.569657Z",
     "start_time": "2024-10-04T06:15:53.072578Z"
    }
   },
   "source": [
    "%load_ext autoreload\n",
    "%autoreload 2\n",
    "\n",
    "from pathlib import Path\n",
    "import json\n",
    "\n",
    "import fix_moved_projects as fmp\n",
    "# from fix_moved_projects import fix_moved_projects_by_replace"
   ],
   "outputs": [],
   "execution_count": 1
  },
  {
   "cell_type": "code",
   "source": [
    "\"ahoj sfsa ahoj raew ahoj\".replace(\"ahoj\", \"AHOJ\")"
   ],
   "metadata": {
    "collapsed": false,
    "ExecuteTime": {
     "end_time": "2024-10-04T06:15:53.649658Z",
     "start_time": "2024-10-04T06:15:53.571659Z"
    }
   },
   "id": "131b7399924c392d",
   "outputs": [
    {
     "data": {
      "text/plain": [
       "'AHOJ sfsa AHOJ raew AHOJ'"
      ]
     },
     "execution_count": 2,
     "metadata": {},
     "output_type": "execute_result"
    }
   ],
   "execution_count": 2
  },
  {
   "cell_type": "code",
   "id": "ccc4a7a2-41d1-451d-bdcc-e3bf9a0b8db2",
   "metadata": {
    "pycharm": {
     "name": "#%%\n"
    },
    "ExecuteTime": {
     "end_time": "2024-10-04T07:04:50.804955Z",
     "start_time": "2024-10-04T07:04:50.722955Z"
    }
   },
   "source": [
    "# actual_path = r\"C:/Users/Jirik/my_bc_data/\"\n",
    "# old_path = r\"file:///C:/Users/Jirik/SynologyBC/\"\n",
    "# new_path = r\"file:/C:/Users/Jirik/my_bc_data/\"\n",
    "\n",
    "# both syntaxes with double slashes and quadruple slashes has to be called\n",
    "# old_path = r\"file://nas-bmc3/cttrlab/\"\n",
    "# new_path = r\"file://nas-bmc3/HemminkiLab/\"\n",
    "old_paths = [\n",
    "    r\"file:////nas-bmc3/cttrlab/KONFMI_CU-FS/\",\n",
    "    r\"file:////nas-bmc3/cttrlab/CRC Immune cells/KONFMI_CU-FS/\",\n",
    "    r\"file://nas-bmc3/cttrlab/KONFMI_CU-FS/\",\n",
    "    r\"file://nas-bmc3/cttrlab/CRC Immune cells/KONFMI_CU-FS/\",\n",
    "    r\"file://nas-bmc3/HemminkiLab/KONFMI_CU-FS/\",\n",
    "    r\"file:/A:/KONFMI_CU-FS/\",\n",
    "    r\"file:/Z:/KONFMI_CU-FS/\",\n",
    "    r\"file:/X:/KONFMI_CU-FS/\",\n",
    "    r\"file:///A:/KONFMI_CU-FS/\",\n",
    "    r\"file:///Z:/KONFMI_CU-FS/\",\n",
    "    r\"file:///X:/KONFMI_CU-FS/\",\n",
    "    r\"file:/A:/CRC%20Immune%20cells/KONFMI_CU-FS/\",\n",
    "    r\"file:/Z:/CRC%20Immune%20cells/KONFMI_CU-FS/\",\n",
    "    r\"file:/X:/CRC%20Immune%20cells/KONFMI_CU-FS/\",\n",
    "    r\"file:///A:/CRC%20Immune%20cells/KONFMI_CU-FS/\",\n",
    "    r\"file:///Z:/CRC%20Immune%20cells/KONFMI_CU-FS/\",\n",
    "    r\"file:///X:/CRC%20Immune%20cells/KONFMI_CU-FS/\",\n",
    "    # r\"file://nas-bmc3/HemminkiLab/CRC Immune cells/KONFMI_CU-FS/\",\n",
    "    ]\n",
    "new_path = r\"file://nas-bmc3/HemminkiLab/CRC%20Immune%20cells/KONFMI_CU-FS/\"\n",
    "\n",
    "# check surroundings\n",
    "short_str=\"KONFMI_CU-FS\"\n",
    "long_str=\"cells/KONFMI_CU-FS/Analysis\"\n",
    "\n",
    "\n"
   ],
   "outputs": [],
   "execution_count": 41
  },
  {
   "metadata": {
    "ExecuteTime": {
     "end_time": "2024-10-04T07:02:30.907110Z",
     "start_time": "2024-10-04T07:02:30.773992Z"
    }
   },
   "cell_type": "code",
   "source": [
    "\n",
    "# actual_path = r\"C:\\Users\\Jirik\\HemminkiLab\\CRC Immune cells\\KONFMI_CU-FS\\Analysis\"\n",
    "# actual_path = r\"C:\\Users\\Jirik\\HemminkiLab\\CRC Immune cells\\KONFMI_CU-FS\\Analysis\\CRC project\\7303-15\\project_7303-15\"\n",
    "# actual_path = r\"C:\\Users\\Jirik\\HemminkiLab\\CRC Immune cells\\KONFMI_CU-FS\\Analysis\\CRC project\\14206-07\\14206-07NM\"\n",
    "actual_path = r\"C:\\Users\\Jirik\\HemminkiLab\\CRC Immune cells\\KONFMI_CU-FS\\Analysis\\CRC project\\11290-19\"\n",
    "actual_path = r\"C:\\Users\\Jirik\\HemminkiLab\\CRC Immune cells\\KONFMI_CU-FS\\Analysis\\CRC project\\9339-16\\9564-10\\9564-10NM\"\n",
    "actual_path = r\"C:\\Users\\Jirik\\HemminkiLab\\CRC Immune cells\\KONFMI_CU-FS\\Analysis\\CRC project/126-09\"\n",
    "\n",
    "dry_run = True\n",
    "dry_run = False\n",
    "fmp.fix_moved_projects_by_replace(actual_path, old_paths, new_path, \n",
    "                                  short_str=short_str,\n",
    "                                  long_str=long_str,\n",
    "                                  dry_run=dry_run)\n"
   ],
   "id": "e9cbc0f6054ce3a9",
   "outputs": [
    {
     "name": "stdout",
     "output_type": "stream",
     "text": [
      "Found 3 project.qpproj files\n"
     ]
    },
    {
     "name": "stderr",
     "output_type": "stream",
     "text": [
      "100%|██████████| 3/3 [00:00<00:00, 136.25it/s]\n"
     ]
    }
   ],
   "execution_count": 38
  },
  {
   "cell_type": "markdown",
   "id": "7075fcd0bc5df95d",
   "metadata": {
    "collapsed": false,
    "pycharm": {
     "name": "#%% md\n"
    }
   },
   "source": [
    "# Trailins files"
   ]
  },
  {
   "cell_type": "code",
   "id": "e7709237f24ce7a4",
   "metadata": {
    "collapsed": false,
    "pycharm": {
     "name": "#%%\n"
    },
    "ExecuteTime": {
     "end_time": "2024-10-04T07:05:46.544968Z",
     "start_time": "2024-10-04T07:04:56.535912Z"
    }
   },
   "source": [
    "# actual_path = r\"C:/Users/Jirik/cttrlab/NEW TEST 18.5.2023_Mocosa_Stroma\"\n",
    "# actual_path = r\"C:/Users/Jirik/cttrlab/\"\n",
    "# actual_path = r\"C:/Users/Jirik/HemminkiLab/KONFMI_CU-FS\\Analysis\\CRC project\"\n",
    "actual_path = r\"C:/Users/Jirik/HemminkiLab/CRC Immune cells/KONFMI_CU-FS/Analysis/CRC project\"\n",
    "# old_paths = r\"file:\\nas-bmc3\\cttrlab\"\n",
    "# new_path = r\"file:\\nas-bmc3\\HemminkiLab\"\n",
    "dry_run = True\n",
    "dry_run = False\n",
    "# fix_moved_projects(actual_path, old_paths, new_path, dry_run)\n",
    "fmp.fix_moved_projects_by_replace(actual_path, old_paths, new_path,\n",
    "                                  short_str=short_str,\n",
    "                                  long_str=long_str,\n",
    "                                  dry_run=dry_run)\n",
    "\n",
    "\n"
   ],
   "outputs": [
    {
     "name": "stdout",
     "output_type": "stream",
     "text": [
      "Found 259 project.qpproj files\n"
     ]
    },
    {
     "name": "stderr",
     "output_type": "stream",
     "text": [
      " 21%|██        | 55/259 [00:10<00:22,  8.93it/s]"
     ]
    },
    {
     "name": "stdout",
     "output_type": "stream",
     "text": [
      "Error reading C:\\Users\\Jirik\\HemminkiLab\\CRC Immune cells\\KONFMI_CU-FS\\Analysis\\CRC project\\14131-03\\Project_14131-03\\project.qpproj. Check if the file is offline in Synology Drive Client.\n"
     ]
    },
    {
     "name": "stderr",
     "output_type": "stream",
     "text": [
      " 39%|███▉      | 101/259 [00:12<00:08, 18.84it/s]"
     ]
    },
    {
     "name": "stdout",
     "output_type": "stream",
     "text": [
      "Error reading C:\\Users\\Jirik\\HemminkiLab\\CRC Immune cells\\KONFMI_CU-FS\\Analysis\\CRC project\\2226-12\\Project_2226-12\\project.qpproj. Check if the file is offline in Synology Drive Client.\n"
     ]
    },
    {
     "name": "stderr",
     "output_type": "stream",
     "text": [
      " 66%|██████▌   | 171/259 [00:14<00:02, 40.18it/s]"
     ]
    },
    {
     "name": "stdout",
     "output_type": "stream",
     "text": [
      "Error reading C:\\Users\\Jirik\\HemminkiLab\\CRC Immune cells\\KONFMI_CU-FS\\Analysis\\CRC project\\7648-17\\project_7648-17\\project.qpproj. Check if the file is offline in Synology Drive Client.\n"
     ]
    },
    {
     "name": "stderr",
     "output_type": "stream",
     "text": [
      " 94%|█████████▍| 244/259 [00:15<00:00, 64.36it/s]"
     ]
    },
    {
     "name": "stdout",
     "output_type": "stream",
     "text": [
      "Found 1 problematic contexts in C:\\Users\\Jirik\\HemminkiLab\\CRC Immune cells\\KONFMI_CU-FS\\Analysis\\CRC project\\Miroslav_align\\Test1\\project 7084_06\\project.qpproj\n",
      "Users/Jirik/cttrlab/KONFMI_CU-FS/Analysis/CRC%20proj\n"
     ]
    },
    {
     "name": "stderr",
     "output_type": "stream",
     "text": [
      "100%|██████████| 259/259 [00:46<00:00,  5.62it/s]\n"
     ]
    }
   ],
   "execution_count": 42
  },
  {
   "cell_type": "code",
   "execution_count": null,
   "id": "27429d8954eeb58f",
   "metadata": {
    "collapsed": false,
    "pycharm": {
     "name": "#%%\n"
    }
   },
   "outputs": [],
   "source": []
  }
 ],
 "metadata": {
  "kernelspec": {
   "display_name": "Python 3 (ipykernel)",
   "language": "python",
   "name": "python3"
  },
  "language_info": {
   "codemirror_mode": {
    "name": "ipython",
    "version": 3
   },
   "file_extension": ".py",
   "mimetype": "text/x-python",
   "name": "python",
   "nbconvert_exporter": "python",
   "pygments_lexer": "ipython3",
   "version": "3.10.8"
  }
 },
 "nbformat": 4,
 "nbformat_minor": 5
}
