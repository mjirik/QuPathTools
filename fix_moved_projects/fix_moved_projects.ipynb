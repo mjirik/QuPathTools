{
 "cells": [
  {
   "cell_type": "code",
   "id": "3257605b-2f2d-4152-b9d0-75278a2133d0",
   "metadata": {
    "pycharm": {
     "name": "#%%\n"
    },
    "ExecuteTime": {
     "end_time": "2024-10-03T18:44:22.556671Z",
     "start_time": "2024-10-03T18:44:22.471783Z"
    }
   },
   "source": [
    "%load_ext autoreload\n",
    "%autoreload 2\n",
    "\n",
    "from pathlib import Path\n",
    "import json\n",
    "\n",
    "import fix_moved_projects as fmp\n",
    "# from fix_moved_projects import fix_moved_projects_by_replace"
   ],
   "outputs": [
    {
     "name": "stdout",
     "output_type": "stream",
     "text": [
      "The autoreload extension is already loaded. To reload it, use:\n",
      "  %reload_ext autoreload\n"
     ]
    }
   ],
   "execution_count": 17
  },
  {
   "cell_type": "code",
   "source": [
    "\"ahoj sfsa ahoj raew ahoj\".replace(\"ahoj\", \"AHOJ\")"
   ],
   "metadata": {
    "collapsed": false,
    "ExecuteTime": {
     "end_time": "2024-10-03T18:18:26.081217Z",
     "start_time": "2024-10-03T18:18:26.000220Z"
    }
   },
   "id": "131b7399924c392d",
   "outputs": [
    {
     "data": {
      "text/plain": [
       "'AHOJ sfsa AHOJ raew AHOJ'"
      ]
     },
     "execution_count": 10,
     "metadata": {},
     "output_type": "execute_result"
    }
   ],
   "execution_count": 10
  },
  {
   "cell_type": "code",
   "id": "ccc4a7a2-41d1-451d-bdcc-e3bf9a0b8db2",
   "metadata": {
    "pycharm": {
     "name": "#%%\n"
    },
    "ExecuteTime": {
     "end_time": "2024-10-03T18:49:40.033693Z",
     "start_time": "2024-10-03T18:49:39.932693Z"
    }
   },
   "source": [
    "# actual_path = r\"C:/Users/Jirik/my_bc_data/\"\n",
    "# old_path = r\"file:///C:/Users/Jirik/SynologyBC/\"\n",
    "# new_path = r\"file:/C:/Users/Jirik/my_bc_data/\"\n",
    "\n",
    "# both syntaxes with double slashes and quadruple slashes has to be called\n",
    "# old_path = r\"file://nas-bmc3/cttrlab/\"\n",
    "# new_path = r\"file://nas-bmc3/HemminkiLab/\"\n",
    "old_paths = [\n",
    "    r\"file:////nas-bmc3/cttrlab/KONFMI_CU-FS/\",\n",
    "    r\"file:////nas-bmc3/cttrlab/CRC Immune cells/KONFMI_CU-FS/\",\n",
    "    r\"file://nas-bmc3/cttrlab/KONFMI_CU-FS/\",\n",
    "    r\"file://nas-bmc3/cttrlab/CRC Immune cells/KONFMI_CU-FS/\",\n",
    "    r\"file://nas-bmc3/HemminkiLab/KONFMI_CU-FS/\",\n",
    "    r\"file:/A:/KONFMI_CU-FS/\"\n",
    "    # r\"file://nas-bmc3/HemminkiLab/CRC Immune cells/KONFMI_CU-FS/\",\n",
    "    ]\n",
    "new_path = r\"file://nas-bmc3/HemminkiLab/CRC%20Immune%20cells/KONFMI_CU-FS/\"\n",
    "\n",
    "\n"
   ],
   "outputs": [
    {
     "name": "stdout",
     "output_type": "stream",
     "text": [
      "Found 2 project.qpproj files\n"
     ]
    },
    {
     "name": "stderr",
     "output_type": "stream",
     "text": [
      "  0%|          | 0/2 [00:00<?, ?it/s]2024-10-03 20:49:40.018 | DEBUG    | fix_moved_projects:make_backup_qpproj_file:101 - Copying C:\\Users\\Jirik\\HemminkiLab\\CRC Immune cells\\KONFMI_CU-FS\\Analysis\\CRC project\\11290-19\\11290-19NM\\project.qpproj to C:\\Users\\Jirik\\HemminkiLab\\CRC Immune cells\\KONFMI_CU-FS\\Analysis\\CRC project\\11290-19\\11290-19NM\\project.backup.20241003_204940.qpproj\n",
      "2024-10-03 20:49:40.026 | DEBUG    | fix_moved_projects:make_backup_qpproj_file:101 - Copying C:\\Users\\Jirik\\HemminkiLab\\CRC Immune cells\\KONFMI_CU-FS\\Analysis\\CRC project\\11290-19\\project_11290-19\\project.qpproj to C:\\Users\\Jirik\\HemminkiLab\\CRC Immune cells\\KONFMI_CU-FS\\Analysis\\CRC project\\11290-19\\project_11290-19\\project.backup.20241003_204940.qpproj\n",
      "100%|██████████| 2/2 [00:00<00:00, 153.84it/s]\n"
     ]
    }
   ],
   "execution_count": 19
  },
  {
   "metadata": {
    "ExecuteTime": {
     "end_time": "2024-10-03T18:54:03.901534Z",
     "start_time": "2024-10-03T18:54:03.794535Z"
    }
   },
   "cell_type": "code",
   "source": [
    "\n",
    "# actual_path = r\"C:\\Users\\Jirik\\HemminkiLab\\CRC Immune cells\\KONFMI_CU-FS\\Analysis\"\n",
    "# actual_path = r\"C:\\Users\\Jirik\\HemminkiLab\\CRC Immune cells\\KONFMI_CU-FS\\Analysis\\CRC project\\7303-15\\project_7303-15\"\n",
    "# actual_path = r\"C:\\Users\\Jirik\\HemminkiLab\\CRC Immune cells\\KONFMI_CU-FS\\Analysis\\CRC project\\14206-07\\14206-07NM\"\n",
    "actual_path = r\"C:\\Users\\Jirik\\HemminkiLab\\CRC Immune cells\\KONFMI_CU-FS\\Analysis\\CRC project\\11290-19\"\n",
    "\n",
    "dry_run = True\n",
    "dry_run = False\n",
    "fmp.fix_moved_projects_by_replace(actual_path, old_paths, new_path, dry_run)\n"
   ],
   "id": "e9cbc0f6054ce3a9",
   "outputs": [
    {
     "name": "stdout",
     "output_type": "stream",
     "text": [
      "Found 2 project.qpproj files\n"
     ]
    },
    {
     "name": "stderr",
     "output_type": "stream",
     "text": [
      "100%|██████████| 2/2 [00:00<00:00, 222.30it/s]"
     ]
    },
    {
     "name": "stdout",
     "output_type": "stream",
     "text": [
      "Skipping C:\\Users\\Jirik\\HemminkiLab\\CRC Immune cells\\KONFMI_CU-FS\\Analysis\\CRC project\\11290-19\\11290-19NM\\project.qpproj\n",
      "Skipping C:\\Users\\Jirik\\HemminkiLab\\CRC Immune cells\\KONFMI_CU-FS\\Analysis\\CRC project\\11290-19\\project_11290-19\\project.qpproj\n"
     ]
    },
    {
     "name": "stderr",
     "output_type": "stream",
     "text": [
      "\n"
     ]
    }
   ],
   "execution_count": 21
  },
  {
   "cell_type": "markdown",
   "id": "7075fcd0bc5df95d",
   "metadata": {
    "collapsed": false,
    "pycharm": {
     "name": "#%% md\n"
    }
   },
   "source": [
    "# Trailins files"
   ]
  },
  {
   "cell_type": "code",
   "id": "e7709237f24ce7a4",
   "metadata": {
    "collapsed": false,
    "pycharm": {
     "name": "#%%\n"
    },
    "ExecuteTime": {
     "end_time": "2024-10-03T19:44:39.619396Z",
     "start_time": "2024-10-03T19:44:33.425046Z"
    }
   },
   "source": [
    "# actual_path = r\"C:/Users/Jirik/cttrlab/NEW TEST 18.5.2023_Mocosa_Stroma\"\n",
    "# actual_path = r\"C:/Users/Jirik/cttrlab/\"\n",
    "# actual_path = r\"C:/Users/Jirik/HemminkiLab/KONFMI_CU-FS\\Analysis\\CRC project\"\n",
    "actual_path = r\"C:/Users/Jirik/HemminkiLab/CRC Immune cells/KONFMI_CU-FS/Analysis/CRC project\"\n",
    "# old_paths = r\"file:\\nas-bmc3\\cttrlab\"\n",
    "# new_path = r\"file:\\nas-bmc3\\HemminkiLab\"\n",
    "dry_run = True\n",
    "dry_run = False\n",
    "# fix_moved_projects(actual_path, old_paths, new_path, dry_run)\n",
    "fmp.fix_moved_projects_by_replace(actual_path, old_paths, new_path, dry_run)\n",
    "\n"
   ],
   "outputs": [
    {
     "name": "stdout",
     "output_type": "stream",
     "text": [
      "Found 259 project.qpproj files\n"
     ]
    },
    {
     "name": "stderr",
     "output_type": "stream",
     "text": [
      " 70%|███████   | 182/259 [00:00<00:00, 420.96it/s]"
     ]
    },
    {
     "name": "stdout",
     "output_type": "stream",
     "text": [
      "Error reading C:\\Users\\Jirik\\HemminkiLab\\CRC Immune cells\\KONFMI_CU-FS\\Analysis\\CRC project\\14131-03\\Project_14131-03\\project.qpproj. Check if the file is offline in Synology Drive Client.\n",
      "Error reading C:\\Users\\Jirik\\HemminkiLab\\CRC Immune cells\\KONFMI_CU-FS\\Analysis\\CRC project\\2226-12\\Project_2226-12\\project.qpproj. Check if the file is offline in Synology Drive Client.\n",
      "Error reading C:\\Users\\Jirik\\HemminkiLab\\CRC Immune cells\\KONFMI_CU-FS\\Analysis\\CRC project\\7648-17\\project_7648-17\\project.qpproj. Check if the file is offline in Synology Drive Client.\n"
     ]
    },
    {
     "name": "stderr",
     "output_type": "stream",
     "text": [
      "100%|██████████| 259/259 [00:01<00:00, 167.33it/s]\n"
     ]
    }
   ],
   "execution_count": 33
  },
  {
   "cell_type": "code",
   "execution_count": null,
   "id": "27429d8954eeb58f",
   "metadata": {
    "collapsed": false,
    "pycharm": {
     "name": "#%%\n"
    }
   },
   "outputs": [],
   "source": []
  }
 ],
 "metadata": {
  "kernelspec": {
   "display_name": "Python 3 (ipykernel)",
   "language": "python",
   "name": "python3"
  },
  "language_info": {
   "codemirror_mode": {
    "name": "ipython",
    "version": 3
   },
   "file_extension": ".py",
   "mimetype": "text/x-python",
   "name": "python",
   "nbconvert_exporter": "python",
   "pygments_lexer": "ipython3",
   "version": "3.10.8"
  }
 },
 "nbformat": 4,
 "nbformat_minor": 5
}
